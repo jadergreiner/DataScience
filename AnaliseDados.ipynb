{
 "cells": [
  {
   "cell_type": "markdown",
   "metadata": {},
   "source": [
    "### TAREFA"
   ]
  },
  {
   "cell_type": "markdown",
   "metadata": {},
   "source": [
    "**Ex1**: Analise e quantifique a relação da variável survived com a variável sex usando o conjunto de dados do titanic. Faça seus gráficos e calcule o chi-quadrado para quantificar a relação."
   ]
  },
  {
   "cell_type": "code",
   "execution_count": 1,
   "metadata": {},
   "outputs": [],
   "source": [
    "import matplotlib.pyplot as plt\n",
    "import pandas as pd\n",
    "import numpy as np"
   ]
  },
  {
   "cell_type": "code",
   "execution_count": 2,
   "metadata": {},
   "outputs": [
    {
     "name": "stdout",
     "output_type": "stream",
     "text": [
      "Probabilidade de sobreviver geral: \n",
      " 0    0.62\n",
      "1    0.38\n",
      "Name: Survived, dtype: float64\n",
      "Probabilidade de sobreviver sendo homem: 0.19\n",
      "Probabilidade de sobreviver sendo mulher: 0.74\n"
     ]
    }
   ],
   "source": [
    "url = 'C:/Users/jader.greiner/Documents/Jader/Mentorama/M5/titanic.csv'\n",
    "df = pd.read_csv(url)\n",
    "\n",
    "#df.head()\n",
    "\n",
    "#probabilidade de sobreviver geral:\n",
    "\n",
    "print(\"Probabilidade de sobreviver geral: \\n\",round(df.Survived.value_counts()/df.Survived.shape[0],2))\n",
    "\n",
    "# A: sobreviver\n",
    "# B: ser homem/mulher\n",
    "\n",
    "prob_h = df[(df.Survived==1) & ( df.Sex=='male')].shape[0] / df[df.Sex=='male'].shape[0]\n",
    "prob_m = df[(df.Survived==1) & ( df.Sex=='female')].shape[0] / df[df.Sex=='female'].shape[0]\n",
    "\n",
    "print(\"Probabilidade de sobreviver sendo homem:\", round(prob_h,2))\n",
    "print(\"Probabilidade de sobreviver sendo mulher:\", round(prob_m,2))"
   ]
  },
  {
   "cell_type": "code",
   "execution_count": 3,
   "metadata": {},
   "outputs": [
    {
     "data": {
      "image/png": "[encoded data removed]",
      "text/plain": [
       "<Figure size 432x288 with 1 Axes>"
      ]
     },
     "metadata": {
      "needs_background": "light"
     },
     "output_type": "display_data"
    }
   ],
   "source": [
    "# Frequência de sobrevivência por sexo\n",
    "\n",
    "df_sex = df.groupby('Sex').apply(lambda x: x.Survived.value_counts()).unstack()\n",
    "df_sex_pct = df.groupby('Sex').apply(lambda x: x.Survived.value_counts()/x.shape[0]).unstack()\n",
    "\n",
    "labels = list(df_sex.index) #labels do gráfico de barras\n",
    "\n",
    "morreram = df_sex[0].values #valores para construção do grafico de barras\n",
    "sobreviveram = df_sex[1].values #valores para construção do grafico de barras\n",
    "\n",
    "morreram_pct = df_sex_pct[0].values #valores para construção do grafico de barras\n",
    "sobreviveram_pct= df_sex_pct[1].values #valores para construção do grafico de barras\n",
    "\n",
    "\n",
    "x = np.arange(len(labels))  #localização dos labels\n",
    "width = 0.35  # largura das barras\n",
    "\n",
    "fig, ax = plt.subplots() #construção do frame, criando figura e eixos\n",
    "\n",
    "rects1 = ax.bar(x - width/2, morreram, width, label='Morreram') #valores para construção do gráfico de barras\n",
    "rects2 = ax.bar(x + width/2, sobreviveram, width, label='Sobreviveram')\n",
    "\n",
    "# Adicona título no gráfico, legenda nos eixos e no gráfico legenda\n",
    "ax.set_ylabel('Frequência') #legenda eixo y\n",
    "ax.set_title('Distribuição da Survived por Sex') #titulo\n",
    "ax.set_xticks(x) #seta a posição dos labels\n",
    "ax.set_xticklabels(labels) # legenda dos labels do eixo x\n",
    "ax.legend() #legenda do gráfico\n",
    "plt.show()"
   ]
  },
  {
   "cell_type": "markdown",
   "metadata": {},
   "source": [
    "### calculando chi-quadrado"
   ]
  },
  {
   "cell_type": "code",
   "execution_count": 4,
   "metadata": {},
   "outputs": [
    {
     "data": {
      "text/html": [
       "<div>\n",
       "<style scoped>\n",
       "    .dataframe tbody tr th:only-of-type {\n",
       "        vertical-align: middle;\n",
       "    }\n",
       "\n",
       "    .dataframe tbody tr th {\n",
       "        vertical-align: top;\n",
       "    }\n",
       "\n",
       "    .dataframe thead th {\n",
       "        text-align: right;\n",
       "    }\n",
       "</style>\n",
       "<table border=\"1\" class=\"dataframe\">\n",
       "  <thead>\n",
       "    <tr style=\"text-align: right;\">\n",
       "      <th></th>\n",
       "      <th>Survived</th>\n",
       "    </tr>\n",
       "  </thead>\n",
       "  <tbody>\n",
       "    <tr>\n",
       "      <th>0</th>\n",
       "      <td>0.62</td>\n",
       "    </tr>\n",
       "    <tr>\n",
       "      <th>1</th>\n",
       "      <td>0.38</td>\n",
       "    </tr>\n",
       "  </tbody>\n",
       "</table>\n",
       "</div>"
      ],
      "text/plain": [
       "   Survived\n",
       "0      0.62\n",
       "1      0.38"
      ]
     },
     "execution_count": 4,
     "metadata": {},
     "output_type": "execute_result"
    }
   ],
   "source": [
    "# Distribuição geral da variável survived\n",
    "\n",
    "dist_geral = pd.DataFrame(round(df.Survived.value_counts()/df.shape[0],2))\n",
    "\n",
    "dist_geral"
   ]
  },
  {
   "cell_type": "code",
   "execution_count": 5,
   "metadata": {},
   "outputs": [
    {
     "data": {
      "text/html": [
       "<div>\n",
       "<style scoped>\n",
       "    .dataframe tbody tr th:only-of-type {\n",
       "        vertical-align: middle;\n",
       "    }\n",
       "\n",
       "    .dataframe tbody tr th {\n",
       "        vertical-align: top;\n",
       "    }\n",
       "\n",
       "    .dataframe thead th {\n",
       "        text-align: right;\n",
       "    }\n",
       "</style>\n",
       "<table border=\"1\" class=\"dataframe\">\n",
       "  <thead>\n",
       "    <tr style=\"text-align: right;\">\n",
       "      <th></th>\n",
       "      <th>0</th>\n",
       "      <th>1</th>\n",
       "    </tr>\n",
       "    <tr>\n",
       "      <th>Sex</th>\n",
       "      <th></th>\n",
       "      <th></th>\n",
       "    </tr>\n",
       "  </thead>\n",
       "  <tbody>\n",
       "    <tr>\n",
       "      <th>female</th>\n",
       "      <td>0.257962</td>\n",
       "      <td>0.742038</td>\n",
       "    </tr>\n",
       "    <tr>\n",
       "      <th>male</th>\n",
       "      <td>0.811092</td>\n",
       "      <td>0.188908</td>\n",
       "    </tr>\n",
       "  </tbody>\n",
       "</table>\n",
       "</div>"
      ],
      "text/plain": [
       "               0         1\n",
       "Sex                       \n",
       "female  0.257962  0.742038\n",
       "male    0.811092  0.188908"
      ]
     },
     "execution_count": 5,
     "metadata": {},
     "output_type": "execute_result"
    }
   ],
   "source": [
    " # Vamos escrever a tabela de frequencia para os dados observados.\n",
    "\n",
    "#OBSERVADO:\n",
    "\n",
    "# Tabela de frequência absoluta -- será usado para o cálculo do chi-quadrado\n",
    "df_sex = df.groupby('Sex').apply(lambda x: x.Survived.value_counts()).unstack()\n",
    "\n",
    "\n",
    "# Estamos calculando os valores, considerando o total pelas linhas, ou seja, pela variável Pclass\n",
    "df_sex_pct = df.groupby('Sex').apply(lambda x: x.Survived.value_counts()/x.shape[0]).unstack()\n",
    "\n",
    "df_sex_pct\n",
    "\n",
    "#Interpretação: 74% de todas as mulheres sobreviveram contra 38% do geral"
   ]
  },
  {
   "cell_type": "code",
   "execution_count": 6,
   "metadata": {},
   "outputs": [
    {
     "data": {
      "text/html": [
       "<div>\n",
       "<style scoped>\n",
       "    .dataframe tbody tr th:only-of-type {\n",
       "        vertical-align: middle;\n",
       "    }\n",
       "\n",
       "    .dataframe tbody tr th {\n",
       "        vertical-align: top;\n",
       "    }\n",
       "\n",
       "    .dataframe thead th {\n",
       "        text-align: right;\n",
       "    }\n",
       "</style>\n",
       "<table border=\"1\" class=\"dataframe\">\n",
       "  <thead>\n",
       "    <tr style=\"text-align: right;\">\n",
       "      <th></th>\n",
       "      <th>0</th>\n",
       "      <th>1</th>\n",
       "      <th>total</th>\n",
       "    </tr>\n",
       "    <tr>\n",
       "      <th>Sex</th>\n",
       "      <th></th>\n",
       "      <th></th>\n",
       "      <th></th>\n",
       "    </tr>\n",
       "  </thead>\n",
       "  <tbody>\n",
       "    <tr>\n",
       "      <th>female</th>\n",
       "      <td>81</td>\n",
       "      <td>233</td>\n",
       "      <td>314</td>\n",
       "    </tr>\n",
       "    <tr>\n",
       "      <th>male</th>\n",
       "      <td>468</td>\n",
       "      <td>109</td>\n",
       "      <td>577</td>\n",
       "    </tr>\n",
       "  </tbody>\n",
       "</table>\n",
       "</div>"
      ],
      "text/plain": [
       "          0    1  total\n",
       "Sex                    \n",
       "female   81  233    314\n",
       "male    468  109    577"
      ]
     },
     "execution_count": 6,
     "metadata": {},
     "output_type": "execute_result"
    }
   ],
   "source": [
    "#tabela de frequência criada acima com os totais em valor absoluto\n",
    "\n",
    "df_sex['total'] = df_sex['total'] = df_sex[[0]].values + df_sex[[1]].values \n",
    "\n",
    "df_sex"
   ]
  },
  {
   "cell_type": "code",
   "execution_count": 7,
   "metadata": {},
   "outputs": [
    {
     "data": {
      "text/html": [
       "<div>\n",
       "<style scoped>\n",
       "    .dataframe tbody tr th:only-of-type {\n",
       "        vertical-align: middle;\n",
       "    }\n",
       "\n",
       "    .dataframe tbody tr th {\n",
       "        vertical-align: top;\n",
       "    }\n",
       "\n",
       "    .dataframe thead th {\n",
       "        text-align: right;\n",
       "    }\n",
       "</style>\n",
       "<table border=\"1\" class=\"dataframe\">\n",
       "  <thead>\n",
       "    <tr style=\"text-align: right;\">\n",
       "      <th></th>\n",
       "      <th>0</th>\n",
       "      <th>1</th>\n",
       "    </tr>\n",
       "  </thead>\n",
       "  <tbody>\n",
       "    <tr>\n",
       "      <th>0</th>\n",
       "      <td>194.68</td>\n",
       "      <td>119.32</td>\n",
       "    </tr>\n",
       "    <tr>\n",
       "      <th>1</th>\n",
       "      <td>357.74</td>\n",
       "      <td>219.26</td>\n",
       "    </tr>\n",
       "  </tbody>\n",
       "</table>\n",
       "</div>"
      ],
      "text/plain": [
       "        0       1\n",
       "0  194.68  119.32\n",
       "1  357.74  219.26"
      ]
     },
     "execution_count": 7,
     "metadata": {},
     "output_type": "execute_result"
    }
   ],
   "source": [
    "# Vamos agora calcular a tabela de frequência esperada, caso as duas variáveis não tivesse relação.\n",
    "# Se esse fosse o caso, esperaríamos ter 62% de 0 e 38% de 1 mde cada sexo\n",
    "\n",
    "#ESPERADO:\n",
    "\n",
    "esp_0 = df_sex.total.values * dist_geral.iloc[0].values\n",
    "esp_1 = df_sex.total.values * dist_geral.iloc[1].values\n",
    "\n",
    "df_esp = pd.DataFrame(np.c_[esp_0,esp_1])\n",
    "\n",
    "df_esp"
   ]
  },
  {
   "cell_type": "code",
   "execution_count": 8,
   "metadata": {},
   "outputs": [
    {
     "name": "stdout",
     "output_type": "stream",
     "text": [
      "[[-113.68  113.68]\n",
      " [ 110.26 -110.26]]\n",
      "\n",
      "O chi-quadrado de Pearson é de: 264.11838848422303 indicando uma 'boa' relação entre as variáveis!\n"
     ]
    }
   ],
   "source": [
    "# Cálculo do chi-quadrado\n",
    "\n",
    "# Observado menos o esperado: o_i - e_i == desvio\n",
    "desvios = (df_sex.iloc[:,:2].values - df_esp.values)\n",
    "print(desvios)\n",
    "\n",
    "#(o_i - e_i)^2\n",
    "desvios_ao_quadaro = desvios**2\n",
    "\n",
    "#(o_i - e_i)^2 / e_i\n",
    "\n",
    "chi_quad = sum(sum(desvios_ao_quadaro/df_esp.values))\n",
    "\n",
    "print(\"\\nO chi-quadrado de Pearson é de:\", chi_quad, \"indicando uma 'boa' relação entre as variáveis!\")"
   ]
  },
  {
   "cell_type": "markdown",
   "metadata": {},
   "source": [
    "# :"
   ]
  },
  {
   "cell_type": "markdown",
   "metadata": {},
   "source": [
    "Ex3: Use o dataframe df, carregado abaixo, onde  cada observação corresponde a uma reclamação feita \n",
    "pelo consumidor, para responder as perguntas abaixo:\n",
    "\n",
    "1 - Qual o número de reclamações por Estado?<br>\n",
    "2 - Qual a quantidade de reclamações por sexo?<br>\n",
    "3 - O tempo de resposta tem alguma correlação com a nota do consumidor?<br>\n",
    "4 - Proporção de reclamações registradas e não respondidas.<br>\n",
    "5 - Imagine que você é alguém responsável por monitorar a satisfação dos consumidores. Que outros tipos de pergunta e análises você entende que poderiam ser feitas? Acrescente mais duas perguntas feitas por você, bem como suas análises para responde-las. \n",
    "**Importante**: É interessante que as análises contenham gráficos. No dia-a-dia de um cientista, grande parte do  trabalho é analisar dados e gerar visualizações para apresentá-las.\n",
    "\n",
    "_fonte_ : https://dados.gov.br/dataset/reclamacoes-do-consumidor-gov-br1 (Nesse link estão os dicionário de dados, caso possua dúvidas sobre base)."
   ]
  },
  {
   "cell_type": "code",
   "execution_count": 10,
   "metadata": {},
   "outputs": [
    {
     "data": {
      "text/html": [
       "<div>\n",
       "<style scoped>\n",
       "    .dataframe tbody tr th:only-of-type {\n",
       "        vertical-align: middle;\n",
       "    }\n",
       "\n",
       "    .dataframe tbody tr th {\n",
       "        vertical-align: top;\n",
       "    }\n",
       "\n",
       "    .dataframe thead th {\n",
       "        text-align: right;\n",
       "    }\n",
       "</style>\n",
       "<table border=\"1\" class=\"dataframe\">\n",
       "  <thead>\n",
       "    <tr style=\"text-align: right;\">\n",
       "      <th></th>\n",
       "      <th>Gestor</th>\n",
       "      <th>Canal de Origem</th>\n",
       "      <th>Região</th>\n",
       "      <th>UF</th>\n",
       "      <th>Cidade</th>\n",
       "      <th>Sexo</th>\n",
       "      <th>Faixa Etária</th>\n",
       "      <th>Ano Abertura</th>\n",
       "      <th>Mês Abertura</th>\n",
       "      <th>Data Abertura</th>\n",
       "      <th>...</th>\n",
       "      <th>Como Comprou Contratou</th>\n",
       "      <th>Procurou Empresa</th>\n",
       "      <th>Respondida</th>\n",
       "      <th>Situação</th>\n",
       "      <th>Avaliação Reclamação</th>\n",
       "      <th>Nota do Consumidor</th>\n",
       "      <th>Análise da Recusa</th>\n",
       "      <th>Edição de Conteúdo</th>\n",
       "      <th>Interação do Gestor</th>\n",
       "      <th>Total</th>\n",
       "    </tr>\n",
       "  </thead>\n",
       "  <tbody>\n",
       "    <tr>\n",
       "      <th>0</th>\n",
       "      <td>Secretaria Nacional do Consumidor</td>\n",
       "      <td>Não identificado</td>\n",
       "      <td>SE</td>\n",
       "      <td>RJ</td>\n",
       "      <td>Itaboraí</td>\n",
       "      <td>M</td>\n",
       "      <td>entre 31 a 40 anos</td>\n",
       "      <td>2014</td>\n",
       "      <td>6</td>\n",
       "      <td>27/06/2014</td>\n",
       "      <td>...</td>\n",
       "      <td>Não comprei / contratei</td>\n",
       "      <td>S</td>\n",
       "      <td>S</td>\n",
       "      <td>Finalizada não avaliada</td>\n",
       "      <td>Não Avaliada</td>\n",
       "      <td>NaN</td>\n",
       "      <td>NaN</td>\n",
       "      <td>N</td>\n",
       "      <td>N</td>\n",
       "      <td>1</td>\n",
       "    </tr>\n",
       "    <tr>\n",
       "      <th>1</th>\n",
       "      <td>Instituto Estadual de Proteção e Defesa do Con...</td>\n",
       "      <td>Não identificado</td>\n",
       "      <td>SE</td>\n",
       "      <td>ES</td>\n",
       "      <td>Serra</td>\n",
       "      <td>F</td>\n",
       "      <td>entre 31 a 40 anos</td>\n",
       "      <td>2014</td>\n",
       "      <td>6</td>\n",
       "      <td>11/06/2014</td>\n",
       "      <td>...</td>\n",
       "      <td>Internet</td>\n",
       "      <td>S</td>\n",
       "      <td>S</td>\n",
       "      <td>Finalizada avaliada</td>\n",
       "      <td>Não Resolvida</td>\n",
       "      <td>1.0</td>\n",
       "      <td>NaN</td>\n",
       "      <td>N</td>\n",
       "      <td>N</td>\n",
       "      <td>1</td>\n",
       "    </tr>\n",
       "    <tr>\n",
       "      <th>2</th>\n",
       "      <td>Secretaria Nacional do Consumidor</td>\n",
       "      <td>Não identificado</td>\n",
       "      <td>SE</td>\n",
       "      <td>RJ</td>\n",
       "      <td>Volta Redonda</td>\n",
       "      <td>M</td>\n",
       "      <td>entre 31 a 40 anos</td>\n",
       "      <td>2014</td>\n",
       "      <td>6</td>\n",
       "      <td>27/06/2014</td>\n",
       "      <td>...</td>\n",
       "      <td>Internet</td>\n",
       "      <td>S</td>\n",
       "      <td>S</td>\n",
       "      <td>Finalizada avaliada</td>\n",
       "      <td>Resolvida</td>\n",
       "      <td>5.0</td>\n",
       "      <td>NaN</td>\n",
       "      <td>N</td>\n",
       "      <td>N</td>\n",
       "      <td>1</td>\n",
       "    </tr>\n",
       "    <tr>\n",
       "      <th>3</th>\n",
       "      <td>Instituto de Promoção e Defesa do Cidadão e Co...</td>\n",
       "      <td>Não identificado</td>\n",
       "      <td>NE</td>\n",
       "      <td>MA</td>\n",
       "      <td>São Luís</td>\n",
       "      <td>F</td>\n",
       "      <td>entre 31 a 40 anos</td>\n",
       "      <td>2014</td>\n",
       "      <td>5</td>\n",
       "      <td>29/05/2014</td>\n",
       "      <td>...</td>\n",
       "      <td>Não comprei / contratei</td>\n",
       "      <td>S</td>\n",
       "      <td>S</td>\n",
       "      <td>Finalizada avaliada</td>\n",
       "      <td>Resolvida</td>\n",
       "      <td>5.0</td>\n",
       "      <td>NaN</td>\n",
       "      <td>N</td>\n",
       "      <td>N</td>\n",
       "      <td>1</td>\n",
       "    </tr>\n",
       "    <tr>\n",
       "      <th>4</th>\n",
       "      <td>Secretaria de Desenvolvimento Social e Direito...</td>\n",
       "      <td>Não identificado</td>\n",
       "      <td>NE</td>\n",
       "      <td>PE</td>\n",
       "      <td>Recife</td>\n",
       "      <td>M</td>\n",
       "      <td>entre 21 a 30 anos</td>\n",
       "      <td>2014</td>\n",
       "      <td>6</td>\n",
       "      <td>30/06/2014</td>\n",
       "      <td>...</td>\n",
       "      <td>Internet</td>\n",
       "      <td>S</td>\n",
       "      <td>S</td>\n",
       "      <td>Finalizada não avaliada</td>\n",
       "      <td>Não Avaliada</td>\n",
       "      <td>NaN</td>\n",
       "      <td>NaN</td>\n",
       "      <td>N</td>\n",
       "      <td>N</td>\n",
       "      <td>1</td>\n",
       "    </tr>\n",
       "  </tbody>\n",
       "</table>\n",
       "<p>5 rows × 38 columns</p>\n",
       "</div>"
      ],
      "text/plain": [
       "                                              Gestor   Canal de Origem Região  \\\n",
       "0                  Secretaria Nacional do Consumidor  Não identificado     SE   \n",
       "1  Instituto Estadual de Proteção e Defesa do Con...  Não identificado     SE   \n",
       "2                  Secretaria Nacional do Consumidor  Não identificado     SE   \n",
       "3  Instituto de Promoção e Defesa do Cidadão e Co...  Não identificado     NE   \n",
       "4  Secretaria de Desenvolvimento Social e Direito...  Não identificado     NE   \n",
       "\n",
       "   UF         Cidade Sexo        Faixa Etária  Ano Abertura  Mês Abertura  \\\n",
       "0  RJ       Itaboraí    M  entre 31 a 40 anos          2014             6   \n",
       "1  ES          Serra    F  entre 31 a 40 anos          2014             6   \n",
       "2  RJ  Volta Redonda    M  entre 31 a 40 anos          2014             6   \n",
       "3  MA       São Luís    F  entre 31 a 40 anos          2014             5   \n",
       "4  PE         Recife    M  entre 21 a 30 anos          2014             6   \n",
       "\n",
       "  Data Abertura  ...   Como Comprou Contratou Procurou Empresa Respondida  \\\n",
       "0    27/06/2014  ...  Não comprei / contratei                S          S   \n",
       "1    11/06/2014  ...                 Internet                S          S   \n",
       "2    27/06/2014  ...                 Internet                S          S   \n",
       "3    29/05/2014  ...  Não comprei / contratei                S          S   \n",
       "4    30/06/2014  ...                 Internet                S          S   \n",
       "\n",
       "                  Situação Avaliação Reclamação Nota do Consumidor  \\\n",
       "0  Finalizada não avaliada         Não Avaliada                NaN   \n",
       "1      Finalizada avaliada        Não Resolvida                1.0   \n",
       "2      Finalizada avaliada            Resolvida                5.0   \n",
       "3      Finalizada avaliada            Resolvida                5.0   \n",
       "4  Finalizada não avaliada         Não Avaliada                NaN   \n",
       "\n",
       "  Análise da Recusa Edição de Conteúdo Interação do Gestor Total  \n",
       "0               NaN                  N                   N     1  \n",
       "1               NaN                  N                   N     1  \n",
       "2               NaN                  N                   N     1  \n",
       "3               NaN                  N                   N     1  \n",
       "4               NaN                  N                   N     1  \n",
       "\n",
       "[5 rows x 38 columns]"
      ]
     },
     "execution_count": 10,
     "metadata": {},
     "output_type": "execute_result"
    }
   ],
   "source": [
    "import pandas as pd\n",
    "\n",
    "df = pd.read_csv(\"dadosgovbr---2014.csv\",sep = ';', encoding=\"latin-1\")\n",
    "\n",
    "df.head()"
   ]
  },
  {
   "cell_type": "code",
   "execution_count": 21,
   "metadata": {},
   "outputs": [
    {
     "name": "stdout",
     "output_type": "stream",
     "text": [
      "SP    11882\n",
      "PR     6140\n",
      "RJ     4907\n",
      "MG     4186\n",
      "BA     2443\n",
      "RS     1941\n",
      "DF     1805\n",
      "PE     1626\n",
      "SC     1458\n",
      "MA     1082\n",
      "ES     1081\n",
      "CE     1068\n",
      "MT     1012\n",
      "GO      886\n",
      "MS      531\n",
      "AC      449\n",
      "PB      343\n",
      "AM      291\n",
      "PA      211\n",
      "RN      160\n",
      "RO      119\n",
      "AL      104\n",
      "SE       97\n",
      "PI       77\n",
      "TO       46\n",
      "RR       24\n",
      "AP       18\n",
      "Name: UF, dtype: int64\n"
     ]
    },
    {
     "data": {
      "image/png": "[encoded data removed]",
      "text/plain": [
       "<Figure size 864x576 with 1 Axes>"
      ]
     },
     "metadata": {
      "needs_background": "light"
     },
     "output_type": "display_data"
    }
   ],
   "source": [
    "# 1 - Qual o número de reclamações por Estado?\n",
    "print(df.UF.value_counts())\n",
    "\n",
    "# frequência de reclamações por estado\n",
    "\n",
    "plt.style.use('seaborn-notebook')\n",
    "plt.rcParams['figure.figsize'] = (12,8)\n",
    "\n",
    "dados = df['UF'].value_counts().tolist()\n",
    "legenda = df['UF'].value_counts().keys().tolist()\n",
    "\n",
    "quantidade_cores=27\n",
    "color_lista=plt.cm.Paired(np.arange(quantidade_cores))\n",
    "\n",
    "bars = plt.bar(legenda,dados, label='Estado', color=color_lista)\n",
    "\n",
    "plt.title('Reclamações por estado')\n",
    "plt.xlabel('Estado')\n",
    "plt.ylabel('Quantidade de reclamações')\n",
    "plt.legend(bars,legenda)\n",
    "plt.show()"
   ]
  },
  {
   "cell_type": "code",
   "execution_count": 22,
   "metadata": {},
   "outputs": [
    {
     "name": "stdout",
     "output_type": "stream",
     "text": [
      "M    27895\n",
      "F    16092\n",
      "Name: Sexo, dtype: int64\n"
     ]
    },
    {
     "data": {
      "image/png": "[encoded data removed]",
      "text/plain": [
       "<Figure size 576x360 with 1 Axes>"
      ]
     },
     "metadata": {
      "needs_background": "light"
     },
     "output_type": "display_data"
    }
   ],
   "source": [
    "# 2 - Qual a quantidade de reclamações por sexo?\n",
    "print(df.Sexo.value_counts())\n",
    "\n",
    "dados = df['Sexo'].value_counts().tolist()\n",
    "legenda = df['Sexo'].value_counts().keys().tolist()\n",
    "\n",
    "plt.rcParams['figure.figsize'] = (8,5)\n",
    "\n",
    "bars = plt.bar(legenda,dados, label='Sexo')\n",
    "bars[0].set_color('dodgerblue')\n",
    "bars[1].set_color('red')\n",
    "plt.legend(bars,legenda)\n",
    "plt.title('Reclamações por sexo')\n",
    "plt.xlabel('Sexo')\n",
    "plt.ylabel('Quantidade de reclamações')\n",
    "plt.show()"
   ]
  },
  {
   "cell_type": "code",
   "execution_count": 15,
   "metadata": {},
   "outputs": [
    {
     "data": {
      "text/html": [
       "<style  type=\"text/css\" >\n",
       "#T_6684a_row0_col0,#T_6684a_row0_col1,#T_6684a_row0_col2,#T_6684a_row0_col3,#T_6684a_row0_col4,#T_6684a_row0_col5,#T_6684a_row1_col0,#T_6684a_row1_col5,#T_6684a_row2_col0,#T_6684a_row2_col5,#T_6684a_row3_col0,#T_6684a_row3_col5,#T_6684a_row4_col0,#T_6684a_row4_col5,#T_6684a_row5_col0,#T_6684a_row5_col1,#T_6684a_row5_col2,#T_6684a_row5_col3,#T_6684a_row5_col4,#T_6684a_row5_col5{\n",
       "            background-color:  #000000;\n",
       "            color:  #f1f1f1;\n",
       "        }#T_6684a_row1_col1,#T_6684a_row2_col2,#T_6684a_row3_col3,#T_6684a_row4_col4{\n",
       "            background-color:  #b40426;\n",
       "            color:  #f1f1f1;\n",
       "        }#T_6684a_row1_col2{\n",
       "            background-color:  #8caffe;\n",
       "            color:  #000000;\n",
       "        }#T_6684a_row1_col3{\n",
       "            background-color:  #6282ea;\n",
       "            color:  #000000;\n",
       "        }#T_6684a_row1_col4,#T_6684a_row2_col1{\n",
       "            background-color:  #82a6fb;\n",
       "            color:  #000000;\n",
       "        }#T_6684a_row2_col3{\n",
       "            background-color:  #85a8fc;\n",
       "            color:  #000000;\n",
       "        }#T_6684a_row2_col4{\n",
       "            background-color:  #5977e3;\n",
       "            color:  #000000;\n",
       "        }#T_6684a_row3_col1,#T_6684a_row3_col4,#T_6684a_row4_col2,#T_6684a_row4_col3{\n",
       "            background-color:  #3b4cc0;\n",
       "            color:  #f1f1f1;\n",
       "        }#T_6684a_row3_col2{\n",
       "            background-color:  #6788ee;\n",
       "            color:  #000000;\n",
       "        }#T_6684a_row4_col1{\n",
       "            background-color:  #5b7ae5;\n",
       "            color:  #000000;\n",
       "        }</style><table id=\"T_6684a_\" ><thead>    <tr>        <th class=\"blank level0\" ></th>        <th class=\"col_heading level0 col0\" >Ano Abertura</th>        <th class=\"col_heading level0 col1\" >Mês Abertura</th>        <th class=\"col_heading level0 col2\" >Prazo Analise Gestor</th>        <th class=\"col_heading level0 col3\" >Tempo Resposta</th>        <th class=\"col_heading level0 col4\" >Nota do Consumidor</th>        <th class=\"col_heading level0 col5\" >Total</th>    </tr></thead><tbody>\n",
       "                <tr>\n",
       "                        <th id=\"T_6684a_level0_row0\" class=\"row_heading level0 row0\" >Ano Abertura</th>\n",
       "                        <td id=\"T_6684a_row0_col0\" class=\"data row0 col0\" >nan</td>\n",
       "                        <td id=\"T_6684a_row0_col1\" class=\"data row0 col1\" >nan</td>\n",
       "                        <td id=\"T_6684a_row0_col2\" class=\"data row0 col2\" >nan</td>\n",
       "                        <td id=\"T_6684a_row0_col3\" class=\"data row0 col3\" >nan</td>\n",
       "                        <td id=\"T_6684a_row0_col4\" class=\"data row0 col4\" >nan</td>\n",
       "                        <td id=\"T_6684a_row0_col5\" class=\"data row0 col5\" >nan</td>\n",
       "            </tr>\n",
       "            <tr>\n",
       "                        <th id=\"T_6684a_level0_row1\" class=\"row_heading level0 row1\" >Mês Abertura</th>\n",
       "                        <td id=\"T_6684a_row1_col0\" class=\"data row1 col0\" >nan</td>\n",
       "                        <td id=\"T_6684a_row1_col1\" class=\"data row1 col1\" >1.000000</td>\n",
       "                        <td id=\"T_6684a_row1_col2\" class=\"data row1 col2\" >0.194573</td>\n",
       "                        <td id=\"T_6684a_row1_col3\" class=\"data row1 col3\" >-0.035776</td>\n",
       "                        <td id=\"T_6684a_row1_col4\" class=\"data row1 col4\" >0.073964</td>\n",
       "                        <td id=\"T_6684a_row1_col5\" class=\"data row1 col5\" >nan</td>\n",
       "            </tr>\n",
       "            <tr>\n",
       "                        <th id=\"T_6684a_level0_row2\" class=\"row_heading level0 row2\" >Prazo Analise Gestor</th>\n",
       "                        <td id=\"T_6684a_row2_col0\" class=\"data row2 col0\" >nan</td>\n",
       "                        <td id=\"T_6684a_row2_col1\" class=\"data row2 col1\" >0.194573</td>\n",
       "                        <td id=\"T_6684a_row2_col2\" class=\"data row2 col2\" >1.000000</td>\n",
       "                        <td id=\"T_6684a_row2_col3\" class=\"data row2 col3\" >0.082552</td>\n",
       "                        <td id=\"T_6684a_row2_col4\" class=\"data row2 col4\" >-0.068360</td>\n",
       "                        <td id=\"T_6684a_row2_col5\" class=\"data row2 col5\" >nan</td>\n",
       "            </tr>\n",
       "            <tr>\n",
       "                        <th id=\"T_6684a_level0_row3\" class=\"row_heading level0 row3\" >Tempo Resposta</th>\n",
       "                        <td id=\"T_6684a_row3_col0\" class=\"data row3 col0\" >nan</td>\n",
       "                        <td id=\"T_6684a_row3_col1\" class=\"data row3 col1\" >-0.035776</td>\n",
       "                        <td id=\"T_6684a_row3_col2\" class=\"data row3 col2\" >0.082552</td>\n",
       "                        <td id=\"T_6684a_row3_col3\" class=\"data row3 col3\" >1.000000</td>\n",
       "                        <td id=\"T_6684a_row3_col4\" class=\"data row3 col4\" >-0.187150</td>\n",
       "                        <td id=\"T_6684a_row3_col5\" class=\"data row3 col5\" >nan</td>\n",
       "            </tr>\n",
       "            <tr>\n",
       "                        <th id=\"T_6684a_level0_row4\" class=\"row_heading level0 row4\" >Nota do Consumidor</th>\n",
       "                        <td id=\"T_6684a_row4_col0\" class=\"data row4 col0\" >nan</td>\n",
       "                        <td id=\"T_6684a_row4_col1\" class=\"data row4 col1\" >0.073964</td>\n",
       "                        <td id=\"T_6684a_row4_col2\" class=\"data row4 col2\" >-0.068360</td>\n",
       "                        <td id=\"T_6684a_row4_col3\" class=\"data row4 col3\" >-0.187150</td>\n",
       "                        <td id=\"T_6684a_row4_col4\" class=\"data row4 col4\" >1.000000</td>\n",
       "                        <td id=\"T_6684a_row4_col5\" class=\"data row4 col5\" >nan</td>\n",
       "            </tr>\n",
       "            <tr>\n",
       "                        <th id=\"T_6684a_level0_row5\" class=\"row_heading level0 row5\" >Total</th>\n",
       "                        <td id=\"T_6684a_row5_col0\" class=\"data row5 col0\" >nan</td>\n",
       "                        <td id=\"T_6684a_row5_col1\" class=\"data row5 col1\" >nan</td>\n",
       "                        <td id=\"T_6684a_row5_col2\" class=\"data row5 col2\" >nan</td>\n",
       "                        <td id=\"T_6684a_row5_col3\" class=\"data row5 col3\" >nan</td>\n",
       "                        <td id=\"T_6684a_row5_col4\" class=\"data row5 col4\" >nan</td>\n",
       "                        <td id=\"T_6684a_row5_col5\" class=\"data row5 col5\" >nan</td>\n",
       "            </tr>\n",
       "    </tbody></table>"
      ],
      "text/plain": [
       "<pandas.io.formats.style.Styler at 0x1fa2dfdb580>"
      ]
     },
     "execution_count": 15,
     "metadata": {},
     "output_type": "execute_result"
    }
   ],
   "source": [
    "# 3 - O tempo de resposta tem alguma correlação com a nota do consumidor?\n",
    "df2=df.corr(method='pearson')\n",
    "df2.style.background_gradient(cmap='coolwarm')\n",
    "\n",
    "#print(\"Não foi evidenciado correlação\")"
   ]
  },
  {
   "cell_type": "code",
   "execution_count": 16,
   "metadata": {},
   "outputs": [
    {
     "name": "stdout",
     "output_type": "stream",
     "text": [
      "Não foi evidenciado correlação\n"
     ]
    }
   ],
   "source": [
    "print(\"Não foi evidenciado correlação\")"
   ]
  },
  {
   "cell_type": "code",
   "execution_count": 23,
   "metadata": {},
   "outputs": [
    {
     "name": "stdout",
     "output_type": "stream",
     "text": [
      "S    0.953941\n",
      "N    0.046059\n",
      "Name: Respondida, dtype: float64\n",
      "As reclamação não respondidas correspondem a 4,60%\n"
     ]
    },
    {
     "data": {
      "image/png": "[encoded data removed]",
      "text/plain": [
       "<Figure size 576x360 with 1 Axes>"
      ]
     },
     "metadata": {},
     "output_type": "display_data"
    }
   ],
   "source": [
    "# 4 - Proporção de reclamações registradas e não respondidas.\n",
    "print(df.Respondida.value_counts('N'))\n",
    "print('As reclamação não respondidas correspondem a 4,60%')\n",
    "\n",
    "dados = df.Respondida.value_counts('N')\n",
    "legenda = df['Respondida'].value_counts().keys().tolist()\n",
    "\n",
    "# criando a representação, área de plotagem\n",
    "fig1, ax1 = plt.subplots()\n",
    "\n",
    "# criando o gráfico\n",
    "ax1.pie(dados, labels=legenda, shadow=True, autopct='%1.1f%%')\n",
    "\n",
    "# gráfico em círculo\n",
    "ax1.axis('equal')\n",
    "\n",
    "# Título do gráfico\n",
    "ax1.set_title(\"Frequência de reclamações respondidas\")\n",
    "\n",
    "# Definindo a legenda e localização\n",
    "ax1.legend(legenda,title=\"Respondida\",loc=\"center right\")\n",
    "          \n",
    "plt.show()"
   ]
  },
  {
   "cell_type": "markdown",
   "metadata": {},
   "source": [
    "### 5 - Imagine que você é alguém responsável por monitorar a satisfação dos consumidores. Que outros tipos de pergunta e análises você entende que poderiam ser feitas? Acrescente mais duas perguntas feitas por você, bem como suas análises para responde-las. Importante: É interessante que as análises contenham gráficos. No dia-a-dia de um cientista, grande parte do trabalho é analisar dados e gerar visualizações para apresentá-las."
   ]
  },
  {
   "cell_type": "markdown",
   "metadata": {},
   "source": [
    "##### Explorei no exercício as reclamações por grupo de idades. Primeira análise que fiz foi separando as reclamações por faixa etária e mostrando isso num gráfico de barras.\n",
    "\n",
    "#### A segunda análise quis explorar os dados individuais de cada grupo, achei interessante o comportamento diferente nas notas de grupos diferentes e mostrei em gráficos. \n",
    "\n",
    "### No grupo entre 31 a 40 anos, 45,30% das pessoas responderam notas entre 4 e 5. \n",
    "### No grupo entre 61 a 70 este número cai para 42,5%. As notas de valor 1 também aumentaram no grupo de 61 a 70 anos.\n",
    "\n",
    "#### Cabe uma análise mais aprofundada das motivações no comportamento dos clientes."
   ]
  },
  {
   "cell_type": "code",
   "execution_count": 24,
   "metadata": {},
   "outputs": [
    {
     "data": {
      "image/png": "[encoded data removed]",
      "text/plain": [
       "<Figure size 1008x576 with 1 Axes>"
      ]
     },
     "metadata": {
      "needs_background": "light"
     },
     "output_type": "display_data"
    },
    {
     "name": "stderr",
     "output_type": "stream",
     "text": [
      "<ipython-input-24-18772ef4963e>:24: UserWarning: Pandas doesn't allow columns to be created via a new attribute name - see https://pandas.pydata.org/pandas-docs/stable/indexing.html#attribute-access\n",
      "  df.grupo1 = df.loc[df['Faixa Etária'] == 'entre 31 a 40 anos']\n",
      "<ipython-input-24-18772ef4963e>:25: UserWarning: Pandas doesn't allow columns to be created via a new attribute name - see https://pandas.pydata.org/pandas-docs/stable/indexing.html#attribute-access\n",
      "  df.grupo2 = df.loc[df['Faixa Etária'] == 'entre 61 a 70 anos']\n"
     ]
    },
    {
     "data": {
      "image/png": "[encoded data removed]",
      "text/plain": [
       "<Figure size 432x288 with 1 Axes>"
      ]
     },
     "metadata": {},
     "output_type": "display_data"
    },
    {
     "data": {
      "image/png": "[encoded data removed]",
      "text/plain": [
       "<Figure size 432x288 with 1 Axes>"
      ]
     },
     "metadata": {},
     "output_type": "display_data"
    }
   ],
   "source": [
    "# frequência de reclamações por faixa etária\n",
    "\n",
    "## gerando o gráfico de barras geral \n",
    "\n",
    "plt.style.use('seaborn-notebook')\n",
    "plt.rcParams['figure.figsize'] = (14,8)\n",
    "\n",
    "dados = df['Faixa Etária'].value_counts().tolist()\n",
    "legenda = df['Faixa Etária'].value_counts().keys().tolist()\n",
    "\n",
    "quantidade_cores=27\n",
    "color_lista=plt.cm.Paired(np.arange(quantidade_cores))\n",
    "\n",
    "bars = plt.bar(legenda,dados, label='Estado', color=color_lista)\n",
    "\n",
    "plt.title('Reclamações por Faixa etária')\n",
    "plt.xlabel('Grupo de idades')\n",
    "plt.ylabel('Quantidade de reclamações')\n",
    "plt.legend(bars,legenda)\n",
    "plt.show()\n",
    "\n",
    "## criando os DataFrames de cada grupo\n",
    "\n",
    "df.grupo1 = df.loc[df['Faixa Etária'] == 'entre 31 a 40 anos']\n",
    "df.grupo2 = df.loc[df['Faixa Etária'] == 'entre 61 a 70 anos']\n",
    "\n",
    "## parâmetro para gerar os gráficos pizza menores\n",
    "plt.rcParams['figure.figsize'] = (6,4)\n",
    "\n",
    "dados = df.grupo1['Nota do Consumidor'].value_counts('N')\n",
    "legenda = df.grupo1['Nota do Consumidor'].value_counts().keys().tolist()\n",
    "\n",
    "# criando a representação, área de plotagem\n",
    "fig1, ax1 = plt.subplots()\n",
    "\n",
    "# criando o gráfico\n",
    "ax1.pie(dados, labels=legenda, shadow=True, autopct='%1.1f%%')\n",
    "\n",
    "# gráfico em círculo\n",
    "ax1.axis('equal')\n",
    "\n",
    "# Título do gráfico\n",
    "ax1.set_title(\"Notas do grupo entre 31 a 40 anos  \")\n",
    "\n",
    "# Definindo a legenda e localização\n",
    "ax1.legend(legenda,title=\"Notas\",loc=\"center right\")\n",
    "          \n",
    "plt.show()\n",
    "\n",
    "####### segunda parte dos gráficos ################## \n",
    "\n",
    "dados = df.grupo2['Nota do Consumidor'].value_counts('N')\n",
    "legenda = df.grupo2['Nota do Consumidor'].value_counts().keys().tolist()\n",
    "\n",
    "# criando a representação, área de plotagem\n",
    "fig1, ax2 = plt.subplots()\n",
    "\n",
    "# criando o gráfico\n",
    "ax2.pie(dados, labels=legenda, shadow=False, autopct='%1.1f%%', normalize=False)\n",
    "\n",
    "# gráfico em círculo\n",
    "ax2.axis('equal')\n",
    "\n",
    "# Título do gráfico\n",
    "ax2.set_title(\"Notas do grupo entre 61 a 70 anos  \")\n",
    "\n",
    "# Definindo a legenda e localização\n",
    "ax2.legend(legenda,title=\"Notas\",loc=\"center right\")\n",
    "          \n",
    "plt.show()"
   ]
  },
  {
   "cell_type": "code",
   "execution_count": null,
   "metadata": {},
   "outputs": [],
   "source": []
  }
 ],
 "metadata": {
  "kernelspec": {
   "display_name": "Python 3",
   "language": "python",
   "name": "python3"
  },
  "language_info": {
   "codemirror_mode": {
    "name": "ipython",
    "version": 3
   },
   "file_extension": ".py",
   "mimetype": "text/x-python",
   "name": "python",
   "nbconvert_exporter": "python",
   "pygments_lexer": "ipython3",
   "version": "3.8.8"
  }
 },
 "nbformat": 4,
 "nbformat_minor": 4
}
